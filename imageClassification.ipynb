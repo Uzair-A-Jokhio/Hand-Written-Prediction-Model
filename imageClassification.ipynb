{
 "cells": [
  {
   "cell_type": "markdown",
   "metadata": {},
   "source": [
    "# Hand writting Prediction Model\n",
    "It is a model which Predict number from 0 to 9 "
   ]
  },
  {
   "cell_type": "markdown",
   "metadata": {},
   "source": [
    "## Packages\n",
    "\n",
    "Following are the libaries used."
   ]
  },
  {
   "cell_type": "code",
   "execution_count": 47,
   "metadata": {},
   "outputs": [],
   "source": [
    "import numpy as np\n",
    "import tensorflow as tf\n",
    "from tensorflow.keras.datasets import mnist\n",
    "from tensorflow.keras.models import Sequential\n",
    "from tensorflow.keras.layers import Dense, Flatten\n",
    "from tensorflow.keras.utils import to_categorical\n",
    "from PIL import Image\n",
    "import matplotlib.pyplot as plt"
   ]
  },
  {
   "cell_type": "markdown",
   "metadata": {},
   "source": [
    "## Data Loading and Preprocessing\n",
    "The MNIST dataset is loaded and preprocessed to prepare it for training and evaluation. The images are normalized to have pixel values in the range [0, 1], and the labels are one-hot encoded."
   ]
  },
  {
   "cell_type": "code",
   "execution_count": 48,
   "metadata": {},
   "outputs": [],
   "source": [
    "# load dataset \n",
    "(x_train, y_train), (x_test, y_test) = mnist.load_data()"
   ]
  },
  {
   "cell_type": "code",
   "execution_count": 49,
   "metadata": {},
   "outputs": [],
   "source": [
    "# Preprocess the data \n",
    "x_train = x_train.astype(\"float32\") / 255.0\n",
    "x_test = x_test.astype(\"float32\") / 255.0\n",
    "y_train = to_categorical(y_train, 10)\n",
    "y_test = to_categorical(y_test, 10)"
   ]
  },
  {
   "cell_type": "markdown",
   "metadata": {},
   "source": [
    "## Model Creation\n",
    " \n",
    "A basic neural network model with one hidden layer is built for image classification. The model architecture includes a flattening layer, a hidden dense layer with ReLU activation, and an output dense layer with softmax activation for multi-class classification.\n"
   ]
  },
  {
   "cell_type": "code",
   "execution_count": 50,
   "metadata": {},
   "outputs": [],
   "source": [
    "# Build the Model\n",
    "model = Sequential(\n",
    "    [\n",
    "        Flatten(input_shape=(28,28)), # Flatten the 28x28 images into a 1D vector\n",
    "        Dense(128, activation=\"relu\"),  # Hidden layer with 128 units and ReLU activation\n",
    "        Dense(10,activation=\"softmax\"),\n",
    "    ], name=\"My_model\"\n",
    ")\n"
   ]
  },
  {
   "cell_type": "code",
   "execution_count": 51,
   "metadata": {},
   "outputs": [
    {
     "name": "stdout",
     "output_type": "stream",
     "text": [
      "Model: \"My_model\"\n",
      "_________________________________________________________________\n",
      " Layer (type)                Output Shape              Param #   \n",
      "=================================================================\n",
      " flatten_4 (Flatten)         (None, 784)               0         \n",
      "                                                                 \n",
      " dense_8 (Dense)             (None, 128)               100480    \n",
      "                                                                 \n",
      " dense_9 (Dense)             (None, 10)                1290      \n",
      "                                                                 \n",
      "=================================================================\n",
      "Total params: 101,770\n",
      "Trainable params: 101,770\n",
      "Non-trainable params: 0\n",
      "_________________________________________________________________\n"
     ]
    }
   ],
   "source": [
    "model.summary()"
   ]
  },
  {
   "cell_type": "code",
   "execution_count": 52,
   "metadata": {},
   "outputs": [
    {
     "name": "stdout",
     "output_type": "stream",
     "text": [
      "Epoch 1/5\n",
      "1688/1688 [==============================] - 6s 3ms/step - loss: 0.2728 - accuracy: 0.9219 - val_loss: 0.1328 - val_accuracy: 0.9633\n",
      "Epoch 2/5\n",
      "1688/1688 [==============================] - 5s 3ms/step - loss: 0.1234 - accuracy: 0.9634 - val_loss: 0.1039 - val_accuracy: 0.9698\n",
      "Epoch 3/5\n",
      "1688/1688 [==============================] - 6s 3ms/step - loss: 0.0855 - accuracy: 0.9741 - val_loss: 0.0924 - val_accuracy: 0.9740\n",
      "Epoch 4/5\n",
      "1688/1688 [==============================] - 5s 3ms/step - loss: 0.0654 - accuracy: 0.9795 - val_loss: 0.0858 - val_accuracy: 0.9745\n",
      "Epoch 5/5\n",
      "1688/1688 [==============================] - 6s 3ms/step - loss: 0.0507 - accuracy: 0.9844 - val_loss: 0.0860 - val_accuracy: 0.9762\n"
     ]
    },
    {
     "data": {
      "text/plain": [
       "<keras.callbacks.History at 0x209dd072260>"
      ]
     },
     "execution_count": 52,
     "metadata": {},
     "output_type": "execute_result"
    }
   ],
   "source": [
    "# compile model\n",
    "model.compile(optimizer='adam',\n",
    "            loss='categorical_crossentropy', \n",
    "            metrics=['accuracy'])\n",
    "            \n",
    "# Train the model\n",
    "model.fit(x_train, y_train, \n",
    "          epochs=5, \n",
    "          batch_size=32, \n",
    "          validation_split=0.1)"
   ]
  },
  {
   "cell_type": "markdown",
   "metadata": {},
   "source": [
    "## Accuracy\n"
   ]
  },
  {
   "cell_type": "code",
   "execution_count": 53,
   "metadata": {},
   "outputs": [
    {
     "name": "stdout",
     "output_type": "stream",
     "text": [
      "313/313 [==============================] - 1s 2ms/step - loss: 0.0850 - accuracy: 0.9744\n",
      "Test accuracy: 97.44%\n"
     ]
    }
   ],
   "source": [
    "loss, accuracy = model.evaluate(x_test, y_test)\n",
    "print(f\"Test accuracy: {accuracy * 100:.2f}%\")"
   ]
  },
  {
   "cell_type": "markdown",
   "metadata": {},
   "source": []
  },
  {
   "cell_type": "code",
   "execution_count": 54,
   "metadata": {},
   "outputs": [
    {
     "name": "stdout",
     "output_type": "stream",
     "text": [
      "1/1 [==============================] - 0s 90ms/step\n",
      "1/1 [==============================] - 0s 43ms/step\n",
      "1/1 [==============================] - 0s 43ms/step\n",
      "1/1 [==============================] - 0s 29ms/step\n",
      "1/1 [==============================] - 0s 28ms/step\n",
      "1/1 [==============================] - 0s 28ms/step\n",
      "1/1 [==============================] - 0s 28ms/step\n",
      "1/1 [==============================] - 0s 29ms/step\n",
      "1/1 [==============================] - 0s 29ms/step\n"
     ]
    },
    {
     "data": {
      "image/png": "[encoded data removed]",
      "text/plain": [
       "<Figure size 1200x800 with 9 Axes>"
      ]
     },
     "metadata": {},
     "output_type": "display_data"
    }
   ],
   "source": [
    "num_rows, num_cols = 3, 3\n",
    "\n",
    "# Display six example images from the dataset with predictions\n",
    "plt.figure(figsize=(12, 8))\n",
    "for i in range(num_rows * num_cols):\n",
    "    plt.subplot(num_rows, num_cols, i + 1)\n",
    "    image = x_train[i].reshape(1, 28, 28)\n",
    "    prediction = model.predict(image)\n",
    "    predicted_class = np.argmax(prediction)\n",
    "    plt.imshow(x_train[i], cmap='gray')\n",
    "    plt.title(f\"Actual: {np.argmax(y_train[i])}, Predicted: {predicted_class}\")\n",
    "    plt.axis('off')\n",
    "\n",
    "plt.show()"
   ]
  },
  {
   "cell_type": "markdown",
   "metadata": {},
   "source": [
    "## User Input \n",
    "You can insert an Image to check either the model predict it correct or not..\n",
    "\n",
    "### Preprocess User Image"
   ]
  },
  {
   "cell_type": "code",
   "execution_count": 55,
   "metadata": {},
   "outputs": [],
   "source": [
    "# Function to preprocess user input image\n",
    "def preprocess_user_image(image_path):\n",
    "    try:\n",
    "        # Open the image and convert it to grayscale\n",
    "        image = Image.open(image_path).convert('L')\n",
    "        # Resize the image to 28x28 pixels (MNIST image size)\n",
    "        image = image.resize((28, 28))\n",
    "        # Invert the colors to have white digits on a black background\n",
    "        image = Image.eval(image, lambda pixel: 255 - pixel)\n",
    "        # Convert the image to a NumPy array\n",
    "        image_array = np.array(image)\n",
    "        # Normalize the pixel values to the range [0, 1]\n",
    "        image_array = image_array.astype('float32') / 255.0\n",
    "        # Add batch dimension (needed for the model)\n",
    "        image_array = np.expand_dims(image_array, axis=0)\n",
    "        return image_array\n",
    "\n",
    "    except Exception as e:\n",
    "        print(f\"Error: {e}\")\n",
    "        return None\n"
   ]
  },
  {
   "cell_type": "markdown",
   "metadata": {},
   "source": [
    "### Insert image\n",
    "\n",
    "NOTE: First save your image in picture file, then input the name of image file for predicition   "
   ]
  },
  {
   "cell_type": "code",
   "execution_count": 56,
   "metadata": {},
   "outputs": [
    {
     "name": "stdout",
     "output_type": "stream",
     "text": [
      "1/1 [==============================] - 0s 23ms/step\n",
      "\n",
      "Predicted class: 2\n"
     ]
    },
    {
     "data": {
      "image/png": "[encoded data removed]",
      "text/plain": [
       "<Figure size 640x480 with 1 Axes>"
      ]
     },
     "metadata": {},
     "output_type": "display_data"
    }
   ],
   "source": [
    "# Get user input and make predictions\n",
    "path = \"picture/\"\n",
    "while True:\n",
    "    user_input = input(\"Enter the path to your image (or 'exit' to quit): \")\n",
    "    if user_input.lower() == 'exit':\n",
    "        break\n",
    "    try:\n",
    "        user_image = preprocess_user_image(path + user_input)\n",
    "        if user_image is not None:\n",
    "            prediction = model.predict(user_image)\n",
    "            predicted_class = np.argmax(prediction)\n",
    "            print(f\"\\nPredicted class: {predicted_class}\")\n",
    "            plt.imshow(user_image.reshape(28, 28), cmap='gray')\n",
    "            plt.axis('off')\n",
    "            plt.show()\n",
    "    except Exception as e:\n",
    "        print(f\"Error: {e}\")"
   ]
  },
  {
   "cell_type": "code",
   "execution_count": null,
   "metadata": {},
   "outputs": [],
   "source": []
  }
 ],
 "metadata": {
  "kernelspec": {
   "display_name": "Python 3",
   "language": "python",
   "name": "python3"
  },
  "language_info": {
   "codemirror_mode": {
    "name": "ipython",
    "version": 3
   },
   "file_extension": ".py",
   "mimetype": "text/x-python",
   "name": "python",
   "nbconvert_exporter": "python",
   "pygments_lexer": "ipython3",
   "version": "3.10.6"
  },
  "orig_nbformat": 4
 },
 "nbformat": 4,
 "nbformat_minor": 2
}
